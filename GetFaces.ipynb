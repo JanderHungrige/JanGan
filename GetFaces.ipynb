{
 "cells": [
  {
   "cell_type": "code",
   "execution_count": 5,
   "metadata": {},
   "outputs": [
    {
     "name": "stdout",
     "output_type": "stream",
     "text": [
      "saved\n",
      "saved\n",
      "saved\n"
     ]
    }
   ],
   "source": [
    "import numpy as np\n",
    "import cv2\n",
    "import os\n",
    "import time\n",
    "folder = 'webcam_images_RGB'\n",
    "brt = 90  # value could be + or - for brightness or darkness\n",
    "\n",
    "os.makedirs(folder, exist_ok=True)\n",
    "\n",
    "cap = cv2.VideoCapture(0)\n",
    "gray=False\n",
    "\n",
    "while(True):\n",
    "    # Capture frame-by-frame\n",
    "    ret, frame = cap.read()    \n",
    "\n",
    "        \n",
    "    #frame = cv2.flip(frame,0)\n",
    "    # Our operations on the frame come here\n",
    "    if gray==True:\n",
    "        frame = cv2.cvtColor(frame, cv2.COLOR_BGR2GRAY)\n",
    "\n",
    "    # Display the resulting frame\n",
    "    cv2.imshow('frame',frame)\n",
    "    key = cv2.waitKey(1)\n",
    "    if  key & 0xFF == ord('q'):\n",
    "        break\n",
    "    if key & 0xFF == ord('s'):\n",
    "        filename = f'{folder}/webcam_{time.time()*10:.0f}.png'\n",
    "        cv2.imwrite(filename,frame)\n",
    "        print('saved')\n",
    "        \n",
    "\n",
    "# When everything done, release the capture\n",
    "cap.release()\n",
    "cv2.destroyAllWindows()"
   ]
  },
  {
   "cell_type": "code",
   "execution_count": null,
   "metadata": {},
   "outputs": [],
   "source": [
    "frame = cv2.flip(frame,0) # if the camera records upside down"
   ]
  },
  {
   "cell_type": "code",
   "execution_count": 6,
   "metadata": {},
   "outputs": [],
   "source": [
    "from pathlib import Path\n",
    "import imageio\n",
    "import matplotlib.pyplot as plt\n",
    "import cv2\n",
    "import os\n",
    "import time\n",
    "%matplotlib inline\n",
    "face_cascade = cv2.CascadeClassifier(cv2.data.haarcascades + 'haarcascade_frontalface_alt.xml')\n",
    "\n",
    "path = Path('last/')\n",
    "folder='croped_images_all/'\n",
    "os.makedirs(folder, exist_ok=True)\n",
    "\n",
    "\n",
    "Gray=True # Read images as Grayscale or RGB\n",
    "p=50 #Buffer for space around detected face to croping\n",
    "width=256\n",
    "height=width\n",
    "\n",
    "for f in path.glob('*.png'):\n",
    "    if Gray==True:\n",
    "        im=cv2.imread(str(f), cv2.IMREAD_GRAYSCALE)\n",
    "    else:\n",
    "        im=cv2.imread(str(f), cv2.IMREAD_COLOR)\n",
    "    \n",
    "    faces_detected = face_cascade.detectMultiScale(im, scaleFactor=1.1, minNeighbors=5)\n",
    "    if len(faces_detected)!=0: # only if the cascader detected a face, otherwise error\n",
    "        (x, y, w, h) = faces_detected[0]\n",
    "#         cv2.rectangle(im, (x, y), (x+w, y+h), (0, 255, 0), 1); # Draw face dtect rectangle\n",
    "        filename = f'{folder}/croped_{time.time()*10:.0f}.png'\n",
    "        im=im[y-p+1:y+h+p, x-p+1:x+w+p] #use only the detected face; crop it\n",
    "        im=cv2.resize(im, (width, height), interpolation=cv2.INTER_LINEAR) #resize the image to desired dimensions e.g., 256x256  \n",
    "        cv2.imwrite(filename, im) #save image in folder\n"
   ]
  }
 ],
 "metadata": {
  "kernelspec": {
   "display_name": "Python 3",
   "language": "python",
   "name": "python3"
  },
  "language_info": {
   "codemirror_mode": {
    "name": "ipython",
    "version": 3
   },
   "file_extension": ".py",
   "mimetype": "text/x-python",
   "name": "python",
   "nbconvert_exporter": "python",
   "pygments_lexer": "ipython3",
   "version": "3.7.3"
  },
  "toc": {
   "base_numbering": 1,
   "nav_menu": {},
   "number_sections": true,
   "sideBar": true,
   "skip_h1_title": false,
   "title_cell": "Table of Contents",
   "title_sidebar": "Contents",
   "toc_cell": false,
   "toc_position": {},
   "toc_section_display": true,
   "toc_window_display": false
  },
  "varInspector": {
   "cols": {
    "lenName": 16,
    "lenType": 16,
    "lenVar": 40
   },
   "kernels_config": {
    "python": {
     "delete_cmd_postfix": "",
     "delete_cmd_prefix": "del ",
     "library": "var_list.py",
     "varRefreshCmd": "print(var_dic_list())"
    },
    "r": {
     "delete_cmd_postfix": ") ",
     "delete_cmd_prefix": "rm(",
     "library": "var_list.r",
     "varRefreshCmd": "cat(var_dic_list()) "
    }
   },
   "position": {
    "height": "302.85px",
    "left": "1372.83px",
    "right": "39px",
    "top": "113px",
    "width": "350px"
   },
   "types_to_exclude": [
    "module",
    "function",
    "builtin_function_or_method",
    "instance",
    "_Feature"
   ],
   "window_display": false
  }
 },
 "nbformat": 4,
 "nbformat_minor": 4
}
